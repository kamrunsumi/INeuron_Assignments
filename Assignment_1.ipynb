{
 "cells": [
  {
   "cell_type": "markdown",
   "id": "quick-standing",
   "metadata": {},
   "source": [
    "**1. In the below elements which of them are values or an expression? eg:- values can be integer or string and expressions will be mathematical operators.**\n",
    "\n",
    "- 'hello'\n",
    "- -87.8\n",
    "- - \n",
    "- / \n",
    "- +\n",
    "- 6 \n"
   ]
  },
  {
   "cell_type": "markdown",
   "id": "boxed-conducting",
   "metadata": {},
   "source": [
    "- **'hello'**          This is value\n",
    "- **-87.8**            This is value \n",
    "- **/**                This is expression\n",
    "- **(-)**              This is expression\n",
    "- **(+)**              This is expression\n",
    "- **6**                This is value"
   ]
  },
  {
   "cell_type": "markdown",
   "id": "brilliant-recipient",
   "metadata": {},
   "source": [
    "**2. What is the difference between string and variable?**\n",
    "\n",
    "A variable where we can store any information we want. For Example:\n",
    "\n",
    "- x = 12\n",
    "- y = 23.5\n",
    "- z = \"sam\"\n",
    "- k = [2,4,5]\n",
    "\n",
    "However, string is the text information which we can store under a variable. We use single  quote or double  quote to define string. For example:\n",
    "\n",
    "- x = 'hello world'\n"
   ]
  },
  {
   "cell_type": "markdown",
   "id": "comfortable-conditions",
   "metadata": {},
   "source": [
    "**3. Describe three different data types.**\n",
    "\n",
    "- Integer: Positive or negative whole numbers (without a fractional part) e.g. 44, -4, 589, 78390202\n",
    "\n",
    "- floating value: float values are specified with a decimal point. e.g. 45.90, 67.99998e2.\n",
    "\n",
    "- Boolean: Data with one of two built-in values True or False. e.g. \"T\", \"F\" not true or false\n"
   ]
  },
  {
   "cell_type": "markdown",
   "id": "center-murray",
   "metadata": {},
   "source": [
    "**4. What is an expression made up of? What do all expressions do?**\n",
    "\n",
    "An expression is a combination of values, variables, operators, and calls to functions. Expressions need to be evaluated. If you ask Python to print an expression, the interpreter evaluates the expression and displays the result.\n",
    "\n",
    "All expressions evaluate to a single value."
   ]
  },
  {
   "cell_type": "markdown",
   "id": "provincial-insight",
   "metadata": {},
   "source": [
    "**5. This assignment statements, like spam = 10. What is the difference between an expression and a statement?****6. \n",
    "\n",
    "An expression evaluates to a single value. A statement does not."
   ]
  },
  {
   "cell_type": "markdown",
   "id": "unlike-problem",
   "metadata": {},
   "source": [
    "**6. After running the following code, what does the variable bacon contain?**\n"
   ]
  },
  {
   "cell_type": "code",
   "execution_count": 16,
   "id": "changed-service",
   "metadata": {},
   "outputs": [
    {
     "data": {
      "text/plain": [
       "23"
      ]
     },
     "execution_count": 16,
     "metadata": {},
     "output_type": "execute_result"
    }
   ],
   "source": [
    "bacon = 22\n",
    "bacon + 1\n"
   ]
  },
  {
   "cell_type": "markdown",
   "id": "decreased-beijing",
   "metadata": {},
   "source": [
    "The bacon variable is set to 22. The bacon + 1 expression does not reassign the value in bacon (that would need an assignment statement: bacon = bacon + 1)"
   ]
  },
  {
   "cell_type": "markdown",
   "id": "original-possible",
   "metadata": {},
   "source": [
    "**7. What should the values of the following two terms be?**\n"
   ]
  },
  {
   "cell_type": "code",
   "execution_count": 17,
   "id": "dated-mirror",
   "metadata": {},
   "outputs": [
    {
     "name": "stdout",
     "output_type": "stream",
     "text": [
      "spamspamspam\n",
      "spamspamspam\n"
     ]
    }
   ],
   "source": [
    "a='spam' + 'spamspam'\n",
    "print(a)\n",
    "\n",
    "b='spam' * 3\n",
    "print(b)\n"
   ]
  },
  {
   "cell_type": "markdown",
   "id": "caroline-highland",
   "metadata": {},
   "source": [
    "Both expressions evaluate to the string 'spamspamspam'"
   ]
  },
  {
   "cell_type": "markdown",
   "id": "sacred-input",
   "metadata": {},
   "source": [
    "\n",
    "**8. Why is eggs a valid variable name while 100 is invalid?**\n",
    "\n",
    "eggs is a valid variable because we can assign any name as a variable. However, variable names cannot begin with a number. That's why 100 is invalid.\n",
    "\n",
    "\n"
   ]
  },
  {
   "cell_type": "markdown",
   "id": "persistent-concert",
   "metadata": {},
   "source": [
    "**9. What three functions can be used to get the integer, floating-point number, or string version of a value?**\n",
    "\n",
    "- For integer: int()\n",
    "- For float: float()\n",
    "- For string: str()\n"
   ]
  },
  {
   "cell_type": "markdown",
   "id": "realistic-spokesman",
   "metadata": {},
   "source": [
    "**10. Why does this expression cause an error? How can you fix it?**\n"
   ]
  },
  {
   "cell_type": "code",
   "execution_count": 18,
   "id": "coordinated-april",
   "metadata": {},
   "outputs": [
    {
     "ename": "TypeError",
     "evalue": "can only concatenate str (not \"int\") to str",
     "output_type": "error",
     "traceback": [
      "\u001b[0;31m---------------------------------------------------------------------------\u001b[0m",
      "\u001b[0;31mTypeError\u001b[0m                                 Traceback (most recent call last)",
      "\u001b[0;32m<ipython-input-18-d24137131a5c>\u001b[0m in \u001b[0;36m<module>\u001b[0;34m\u001b[0m\n\u001b[0;32m----> 1\u001b[0;31m \u001b[0;34m'I have eaten '\u001b[0m \u001b[0;34m+\u001b[0m \u001b[0;36m99\u001b[0m \u001b[0;34m+\u001b[0m \u001b[0;34m' burritos.'\u001b[0m\u001b[0;34m\u001b[0m\u001b[0;34m\u001b[0m\u001b[0m\n\u001b[0m",
      "\u001b[0;31mTypeError\u001b[0m: can only concatenate str (not \"int\") to str"
     ]
    }
   ],
   "source": [
    "'I have eaten ' + 99 + ' burritos.'"
   ]
  },
  {
   "cell_type": "markdown",
   "id": "reserved-colors",
   "metadata": {},
   "source": [
    "String only can concatenate with string not with integer value. \n",
    "To fix it, we need to convert integer value to string."
   ]
  },
  {
   "cell_type": "code",
   "execution_count": 19,
   "id": "black-planet",
   "metadata": {},
   "outputs": [
    {
     "data": {
      "text/plain": [
       "'I have eaten 99 burritos.'"
      ]
     },
     "execution_count": 19,
     "metadata": {},
     "output_type": "execute_result"
    }
   ],
   "source": [
    "'I have eaten ' + '99' + ' burritos.'"
   ]
  },
  {
   "cell_type": "code",
   "execution_count": null,
   "id": "radical-fireplace",
   "metadata": {},
   "outputs": [],
   "source": []
  }
 ],
 "metadata": {
  "kernelspec": {
   "display_name": "Python 3",
   "language": "python",
   "name": "python3"
  },
  "language_info": {
   "codemirror_mode": {
    "name": "ipython",
    "version": 3
   },
   "file_extension": ".py",
   "mimetype": "text/x-python",
   "name": "python",
   "nbconvert_exporter": "python",
   "pygments_lexer": "ipython3",
   "version": "3.7.1"
  }
 },
 "nbformat": 4,
 "nbformat_minor": 5
}
