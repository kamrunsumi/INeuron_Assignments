{
 "cells": [
  {
   "cell_type": "markdown",
   "id": "synthetic-interview",
   "metadata": {},
   "source": [
    "#### 1.\tWrite a Python program to print \"Hello Python\"?\n"
   ]
  },
  {
   "cell_type": "code",
   "execution_count": 1,
   "id": "opposite-constant",
   "metadata": {},
   "outputs": [
    {
     "name": "stdout",
     "output_type": "stream",
     "text": [
      "Hello Python\n"
     ]
    }
   ],
   "source": [
    "print(\"Hello Python\")"
   ]
  },
  {
   "cell_type": "markdown",
   "id": "listed-malpractice",
   "metadata": {},
   "source": [
    "#### 2.\tWrite a Python program to do arithmetical operations addition and division.?\n"
   ]
  },
  {
   "cell_type": "code",
   "execution_count": null,
   "id": "classical-rough",
   "metadata": {},
   "outputs": [],
   "source": [
    "a = int(input('Enter First number: '))\n",
    "b = int(input('Enter Second number: '))\n",
    "add = a + b\n",
    "div = a / b\n",
    "floor_div = a // b\n",
    "print('Sum of ',a ,'and' ,b ,'is :',add)\n",
    "print('Division of ',a ,'and' ,b ,'is :',div)\n",
    "print('Floor Division of ',a ,'and' ,b ,'is :',floor_div)\n"
   ]
  },
  {
   "cell_type": "markdown",
   "id": "diagnostic-productivity",
   "metadata": {},
   "source": [
    "#### 3.\tWrite a Python program to find the area of a triangle?\n"
   ]
  },
  {
   "cell_type": "code",
   "execution_count": null,
   "id": "compressed-winning",
   "metadata": {},
   "outputs": [],
   "source": [
    "a = float(input('Enter first side: '))\n",
    "b = float(input('Enter second side: '))\n",
    "c = float(input('Enter third side: '))\n",
    "\n",
    "# calculate the semi-perimeter\n",
    "k = (a + b + c) / 2\n",
    "\n",
    "# calculate the area of a triangle\n",
    "area = (k*(k-a)*(k-b)*(k-c)) ** 0.5\n",
    "print('The area of the triangle is:', area)"
   ]
  },
  {
   "cell_type": "markdown",
   "id": "public-suffering",
   "metadata": {},
   "source": [
    "#### 4.\tWrite a Python program to swap two variables?\n"
   ]
  },
  {
   "cell_type": "code",
   "execution_count": null,
   "id": "fatty-birth",
   "metadata": {},
   "outputs": [],
   "source": [
    "x = 5\n",
    "y = 10\n",
    "\n",
    "x, y = y, x\n",
    "print(\"x =\", x)\n",
    "print(\"y =\", y)\n"
   ]
  },
  {
   "cell_type": "markdown",
   "id": "opponent-saskatchewan",
   "metadata": {},
   "source": [
    "#### 5.\tWrite a Python program to generate a random number?\n"
   ]
  },
  {
   "cell_type": "code",
   "execution_count": null,
   "id": "stuffed-walnut",
   "metadata": {},
   "outputs": [],
   "source": [
    "# import random\n",
    "import random\n",
    " \n",
    "# prints a random value from the list\n",
    "list1 = [1, 2, 3, 4, 5, 6]\n",
    "print(random.choice(list1))\n",
    " "
   ]
  },
  {
   "cell_type": "code",
   "execution_count": null,
   "id": "patient-yellow",
   "metadata": {},
   "outputs": [],
   "source": []
  }
 ],
 "metadata": {
  "kernelspec": {
   "display_name": "Python 3",
   "language": "python",
   "name": "python3"
  },
  "language_info": {
   "codemirror_mode": {
    "name": "ipython",
    "version": 3
   },
   "file_extension": ".py",
   "mimetype": "text/x-python",
   "name": "python",
   "nbconvert_exporter": "python",
   "pygments_lexer": "ipython3",
   "version": "3.7.1"
  }
 },
 "nbformat": 4,
 "nbformat_minor": 5
}
